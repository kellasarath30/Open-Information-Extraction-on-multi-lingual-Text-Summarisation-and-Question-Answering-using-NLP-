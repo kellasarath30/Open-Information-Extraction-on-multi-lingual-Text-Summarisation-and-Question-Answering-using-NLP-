{
  "nbformat": 4,
  "nbformat_minor": 0,
  "metadata": {
    "colab": {
      "provenance": []
    },
    "kernelspec": {
      "name": "python3",
      "display_name": "Python 3"
    },
    "language_info": {
      "name": "python"
    },
    "accelerator": "TPU"
  },
  "cells": [
    {
      "cell_type": "code",
      "source": [
        "pip install transformers"
      ],
      "metadata": {
        "colab": {
          "base_uri": "https://localhost:8080/"
        },
        "id": "TuYUr7gqE6sy",
        "outputId": "23fbb83d-3f76-4ced-9bea-726f7b15ddef"
      },
      "execution_count": null,
      "outputs": [
        {
          "output_type": "stream",
          "name": "stdout",
          "text": [
            "Requirement already satisfied: transformers in /usr/local/lib/python3.10/dist-packages (4.35.2)\n",
            "Requirement already satisfied: filelock in /usr/local/lib/python3.10/dist-packages (from transformers) (3.13.1)\n",
            "Requirement already satisfied: huggingface-hub<1.0,>=0.16.4 in /usr/local/lib/python3.10/dist-packages (from transformers) (0.20.3)\n",
            "Requirement already satisfied: numpy>=1.17 in /usr/local/lib/python3.10/dist-packages (from transformers) (1.23.5)\n",
            "Requirement already satisfied: packaging>=20.0 in /usr/local/lib/python3.10/dist-packages (from transformers) (23.2)\n",
            "Requirement already satisfied: pyyaml>=5.1 in /usr/local/lib/python3.10/dist-packages (from transformers) (6.0.1)\n",
            "Requirement already satisfied: regex!=2019.12.17 in /usr/local/lib/python3.10/dist-packages (from transformers) (2023.6.3)\n",
            "Requirement already satisfied: requests in /usr/local/lib/python3.10/dist-packages (from transformers) (2.31.0)\n",
            "Requirement already satisfied: tokenizers<0.19,>=0.14 in /usr/local/lib/python3.10/dist-packages (from transformers) (0.15.1)\n",
            "Requirement already satisfied: safetensors>=0.3.1 in /usr/local/lib/python3.10/dist-packages (from transformers) (0.4.2)\n",
            "Requirement already satisfied: tqdm>=4.27 in /usr/local/lib/python3.10/dist-packages (from transformers) (4.66.1)\n",
            "Requirement already satisfied: fsspec>=2023.5.0 in /usr/local/lib/python3.10/dist-packages (from huggingface-hub<1.0,>=0.16.4->transformers) (2023.6.0)\n",
            "Requirement already satisfied: typing-extensions>=3.7.4.3 in /usr/local/lib/python3.10/dist-packages (from huggingface-hub<1.0,>=0.16.4->transformers) (4.5.0)\n",
            "Requirement already satisfied: charset-normalizer<4,>=2 in /usr/local/lib/python3.10/dist-packages (from requests->transformers) (3.3.2)\n",
            "Requirement already satisfied: idna<4,>=2.5 in /usr/local/lib/python3.10/dist-packages (from requests->transformers) (3.6)\n",
            "Requirement already satisfied: urllib3<3,>=1.21.1 in /usr/local/lib/python3.10/dist-packages (from requests->transformers) (2.0.7)\n",
            "Requirement already satisfied: certifi>=2017.4.17 in /usr/local/lib/python3.10/dist-packages (from requests->transformers) (2023.11.17)\n"
          ]
        }
      ]
    },
    {
      "cell_type": "code",
      "source": [
        "from transformers import AutoTokenizer, AutoModelForQuestionAnswering, AutoModelForMaskedLM"
      ],
      "metadata": {
        "id": "tNli-6bnMsXC"
      },
      "execution_count": null,
      "outputs": []
    },
    {
      "cell_type": "code",
      "source": [
        "predicted_answers = []"
      ],
      "metadata": {
        "id": "OOqpoRLFMZDi"
      },
      "execution_count": null,
      "outputs": []
    },
    {
      "cell_type": "code",
      "source": [
        "def main():\n",
        "\n",
        "    tokenizer = AutoTokenizer.from_pretrained(\"AlexKay/xlm-roberta-large-qa-multilingual-finedtuned-ru\")\n",
        "    model = AutoModelForQuestionAnswering.from_pretrained(\"AlexKay/xlm-roberta-large-qa-multilingual-finedtuned-ru\")\n",
        "    # Example question and context\n",
        "    question = \"భారతదేశ రాజధాని ఏమిటి?\"\n",
        "    context = \"భారతదేశం దక్షిణాసియాలో ఉన్న దేశం. దీని రాజధాని న్యూఢిల్లీ.\"\n",
        "\n",
        "    # Get the answer\n",
        "    answer = get_qa_answer(question, context, model, tokenizer)\n",
        "    predicted_answers.append(answer)\n",
        "\n",
        "    # Print the answer\n",
        "    print(\"Question:\", question)\n",
        "    print(\"Answer:\", answer)\n",
        "\n",
        "    question2 = \"దేశం పేరు ఏమిటి?\"\n",
        "    context2 = \"భారతదేశం దక్షిణాసియాలో ఉన్న దేశం. దీని రాజధాని న్యూఢిల్లీ.\"\n",
        "\n",
        "    answer2 = get_qa_answer(question2, context2, model, tokenizer)\n",
        "    predicted_answers.append(answer2)\n",
        "\n",
        "    print(\"Question:\", question2)\n",
        "    print(\"Answer:\", answer2)\n",
        "\n",
        "    context3 = ''' దిశలు: ఇచ్చిన పాసేజ్‌ని చదివి, తర్వాత వచ్చే ప్రశ్నలకు సమాధానాలు రాయండి. కష్ట సమయాలు ఆందోళన,\n",
        "    అభద్రత మరియు భయం యొక్క భావాలను సృష్టించగలవు. మేము అవాంఛనీయ పరిస్థితులు మరియు అనిశ్చితుల ద్వారా నావిగేట్ చేస్తున్నప్పుడు,\n",
        "    సమస్యల చుట్టూ ఉన్న ప్రతికూలతలు మన మనస్సును తినేస్తాయి.\n",
        "    ఆ సమయాల్లోనే మనం మన దృక్పథాన్ని మార్చుకోవడానికి మరియు మరింత సానుకూల మరియు పరిష్కార-ఆధారిత వైఖరిని అవలంబించడానికి మనం కృషి చేయాలి.\n",
        "    తెలివైన వ్యక్తులు ప్రతికూల ఆలోచనా విధానాలకు లొంగిపోకుండా,\n",
        "    ఎదుగుదల మరియు పురోగమనానికి అవకాశాలుగా ప్రతికూల పరిస్థితులను ఎల్లప్పుడూ ఉపయోగించుకుంటారు.\n",
        "    సన్యాసి కబీర్ సమస్యలతో సవాలు చేయబడినప్పుడు వివిధ వ్యక్తులు ఎలా స్పందిస్తారో వివరించాడు: \\\"బంగారం, సద్గురువులు మరియు సాధువులు దృఢంగా ఉంటారు;\n",
        "    మీరు వాటిని వందసార్లు విచ్ఛిన్నం చేయవచ్చు మరియు వారు మళ్లీ చేరతారు.\n",
        "    దీనికి విరుద్ధంగా, ప్రతికూల వ్యక్తులు మరియు మట్టి కుండలు పెళుసుగా ఉంటాయి;\n",
        "    ఒకసారి పగిలిపోతాయి. , అవి ఎప్పటికీ విరిగిపోతాయి.\\\" విజయవంతమైన వారి ప్రత్యేక లక్షణం ఏమిటంటే, వారు తమను ఎనేబుల్ చేసే మనస్తత్వాన్ని కలిగి ఉంటారు,\n",
        "    ప్రతికూల పరిస్థితులలో సానుకూలంగా ఉంటారు మరియు ప్రతికూల పరిస్థితిని కూడా వారి ప్రయోజనం కోసం ఉపయోగించుకుంటారు.\n",
        "    దీనిపై డేగ మనకు కొన్ని పాఠాలు నేర్పుతుంది. తుఫాను వీచడం ప్రారంభించినప్పుడు, అది దాని ముందు భయపడదు.\n",
        "    ఇది ఎత్తైన ప్రదేశానికి ఎగురుతుంది మరియు గాలి వీచే వరకు వేచి ఉంటుంది.\n",
        "    తుఫాను వచ్చినప్పుడు, డేగ తన రెక్కలను విప్పి, గాలి యొక్క చిత్తుప్రతిని ఉపయోగించి ఆకాశంలో మరింత ఎత్తుకు ఎగబాకుతుంది.\n",
        "    ఇది తుఫాను నుండి పారిపోదు, బదులుగా అది తుఫానును తన ప్రయోజనం కోసం ఉపయోగించుకుంటుంది.\n",
        "    తుఫాను క్రింద ఉధృతంగా ఉన్నప్పుడు, డేగ దాని పైన ఎగురుతుంది.\n",
        "    నిరాశ మరియు ఒత్తిడిని అధిగమించడానికి విజయవంతమైన ఎత్తు ఏమిటంటే, ప్రతికూలతలు వాటిలో అంతర్లీనంగా అవకాశాలు ఉన్నాయని మరియు సమస్యలు లేకుండా అవకాశాలు రావు.\n",
        "    అందువల్ల, ఇబ్బందులు మరియు అడ్డంకులు వాటికి సానుకూల వైపును కలిగి ఉంటాయి, అవి మనల్ని లోపల నుండి పెరిగేలా చేస్తాయి.\n",
        "    ఒక రత్నం ఘర్షణతో మెరుగుపడుతుంది. అగ్నిలో ఉంచడం ద్వారా అత్యుత్తమ ఉక్కు ఉత్పత్తి అవుతుంది.\n",
        "    అదేవిధంగా, మనం ఎన్ని కష్టాలను ఎదుర్కొన్నామో, అంత బలవంతులమవుతాము.'''\n",
        "    question3 = \"నిరాశ మరియు ఒత్తిడిని అధిగమించడానికి విజయవంతమైన ఎత్తు ఏమి?\"\n",
        "\n",
        "    answer3 = get_qa_answer(question3, context3, model, tokenizer)\n",
        "    predicted_answers.append(answer3)\n",
        "\n",
        "    print(\"Question:\", question3)\n",
        "    print(\"Answer:\", answer3)\n",
        "\n",
        "\n",
        "    context4 = ''' Mike and Morris lived in the same village. While Morris owned the largest jewelry shop in the village, Mike was a poor farmer.\n",
        "    Both had large families with many sons, daughters-in-law and grandchildren.\n",
        "    One fine day, Mike, tired of not being able to feed his family, decided to leave the village and move to the city where he was certain to earn enough to feed everyone.\n",
        "    Along with his family, he left the village for the city. At night, they stopped under a large tree.\n",
        "    There was a stream running nearby where they could freshen up themselves.\n",
        "    He told his sons to clear the area below the tree, he told his wife to fetch water and he instructed his daughters-in-law to make up the fire and started cutting wood from the tree himself.\n",
        "    They didn’t know that in the branches of the tree, there was a thief hiding.\n",
        "    He watched as Mike’s family worked together and also noticed that they had nothing to cook.\n",
        "    Mike’s wife also thought the same and asked her husband ” Everything is ready but what shall we eat?”.\n",
        "    Mike raised his hands to heaven and said ” Don’t worry. He is watching all of this from above.\n",
        "    He will help us.” The thief got worried as he had seen that the family was large and worked well together.\n",
        "    Taking advantage of the fact that they did not know he was hiding in the branches, he decided to make a quick escape.\n",
        "    He climbed down safely when they were not looking and ran for his life.\n",
        "    But, he left behind the bundle of stolen jewels and money which dropped into Mike’s lap.\n",
        "    Mike opened it and jumped with joy when he saw the contents. The family gathered all their belongings and returned to the village.\n",
        "    There was great excitement when they told everyone how they got rich.\n",
        "    Morris thought that the tree was miraculous and this was a nice and quick way to earn some money.\n",
        "    He ordered his family to pack some clothes and they set off as if on a journey.\n",
        "    They also stopped under the same tree and Morris started commanding everyone as Mike had done.\n",
        "    But no one in his family was willing to obey his orders. Being a rich family, they were used to having servants all around.\n",
        "    So, the one who went to the river to fetch water enjoyed a nice bath. The one who went to get wood for fire went off to sleep.\n",
        "    Morris’s wife said ” Everything is ready but what shall we eat ?” Morris raised his hands and said, ” Don’t worry.\n",
        "    He is watching all of this from above. He will help us.” As soon as he finished saying, the thief jumped down from the tree with a knife in hand.\n",
        "    Seeing him, everyone started running around to save their lives.\n",
        "    The thief stole everything they had and Morris and his family had to return to the village empty handed, having lost all their valuables that they had taken with them.  '''\n",
        "    question4 = \"Why did Mike and his family decide to rest under the thief’s tree?\"\n",
        "\n",
        "    answer4 = get_qa_answer(question4, context4, model, tokenizer)\n",
        "    predicted_answers.append(answer4)\n",
        "\n",
        "    print(\"Question:\", question4)\n",
        "    print(\"Answer:\", answer4)\n",
        "\n",
        "\n",
        "    context5 = ''' अपठित’ गद्यांश या पद्यांश का अर्थ है- जो पहले पढ़ा गया न हो।\n",
        "    अपठित गद्यांश या पद्यांश पाठ्यपुस्तकों से नहीं लिए जाते। ये ऐसे गद्यांश या पद्यांश होते हैं जिन्हें छात्र पहले कभी नहीं पढ़ा होता। इस प्रकार के गद्यांश-पद्यांश देकर छात्रों से उन पर आधारित प्रश्नों के उत्तर पूछे जाते हैं।\n",
        "    इन प्रश्नों का उत्तर देने के लिए अनुच्छेद को दो-तीन बार पढ़ना चाहिए। इसके बाद अनुच्छेद के नीचे दिए गए प्रश्नों के उत्तर अपने शब्दों में लिखने चाहिए। भाषा स्पष्ट और शुद्ध होनी चाहिए।\n",
        "    उदाहरण ( उत्तर सहित)\n",
        "    1. संसार में शांति, व्यवस्था और सद्भावना के प्रसार के लिए बुद्ध, ईसा मसीह, मुहम्मद चैतन्य, नानक आदि महापुरुषों ने धर्म के माध्यम से मनुष्य को परम कल्याण के पथ का निर्देश किया,\n",
        "    किंतु बाद में यही धर्म मनुष्य के हाथ में एक अस्त्र बन गया। धर्म के नाम पर पृथ्वी पर जितना रक्तपात हुआ उतना और किसी कारण से नहीं। पर धीरे-धीरे मनुष्य अपनी शुभ बुधि से धर्म के कारण होने वाले अनर्थ को समझने लग गया है।\n",
        "    भौगोलिक सीमा और धार्मिक विश्वासजनित भेदभाव अब धरती से मिटते जा रहे हैं। विज्ञान की प्रगति तथा संचार के साधनों में वृद्धि के कारण देशों की दूरियाँ कम हो गई हैं।\n",
        "    इसके कारण मानव-मानव में घृणा, ईष्र्या वैमनस्य कटुता में कमी नहीं आई। मानवीय मूल्यों के महत्त्व के प्रति जागरूकता उत्पन्न करने का एकमात्र साधन है शिक्षा का व्यापक प्रसार। '''\n",
        "    question5 = \" मनुष्य अधर्म के कारण होने वाले अनर्थ को कैसे समझने लगा है?\"\n",
        "\n",
        "    answer5 = get_qa_answer(question5, context5, model, tokenizer)\n",
        "    predicted_answers.append(answer5)\n",
        "\n",
        "    print(\"Question:\", question5)\n",
        "    print(\"Answer:\", answer5)\n",
        "\n",
        "\n",
        "if __name__ == \"__main__\":\n",
        "    main()\n"
      ],
      "metadata": {
        "id": "nL59BYwlqBeB",
        "colab": {
          "base_uri": "https://localhost:8080/"
        },
        "outputId": "bf81b793-b2a1-44e3-f3c9-67a65f856c81"
      },
      "execution_count": null,
      "outputs": [
        {
          "output_type": "stream",
          "name": "stdout",
          "text": [
            "Question: భారతదేశ రాజధాని ఏమిటి?\n",
            "Answer: న్యూఢిల్లీ\n",
            "Question: దేశం పేరు ఏమిటి?\n",
            "Answer: భారతదేశం\n",
            "Question: నిరాశ మరియు ఒత్తిడిని అధిగమించడానికి విజయవంతమైన ఎత్తు ఏమి?\n",
            "Answer: ప్రతికూలతలు వాటిలో అంతర్లీనంగా అవకాశాలు ఉన్నాయని\n",
            "Question: Why did Mike and his family decide to rest under the thief’s tree?\n",
            "Answer: they had nothing to cook\n",
            "Question:  मनुष्य अधर्म के कारण होने वाले अनर्थ को कैसे समझने लगा है?\n",
            "Answer: धीरे-धीरे\n"
          ]
        }
      ]
    },
    {
      "cell_type": "code",
      "source": [
        "for i in predicted_answers:\n",
        "  print(i)"
      ],
      "metadata": {
        "colab": {
          "base_uri": "https://localhost:8080/"
        },
        "id": "Tw0Rq-6UNf15",
        "outputId": "7fc5f65e-9676-4068-c238-f8319033a9c5"
      },
      "execution_count": null,
      "outputs": [
        {
          "output_type": "stream",
          "name": "stdout",
          "text": [
            "న్యూఢిల్లీ\n",
            "భారతదేశం\n",
            "ప్రతికూలతలు వాటిలో అంతర్లీనంగా అవకాశాలు ఉన్నాయని\n",
            "they had nothing to cook\n",
            "धीरे-धीरे\n"
          ]
        }
      ]
    },
    {
      "cell_type": "code",
      "source": [
        "from sklearn.metrics import f1_score\n",
        "\n",
        "def calculate_f1_score(predictions, references):\n",
        "    return f1_score(references, predictions, average='micro')\n",
        "\n",
        "def calculate_exact_match(predictions, references):\n",
        "    exact_match_count = 0\n",
        "    total_examples = len(predictions)\n",
        "\n",
        "    for pred, ref in zip(predictions, references):\n",
        "        if pred == ref:\n",
        "            exact_match_count += 1\n",
        "\n",
        "    return exact_match_count / total_examples\n",
        "\n",
        "def evaluate_performance(predictions, references):\n",
        "    f1 = calculate_f1_score(predictions, references)\n",
        "    em = calculate_exact_match(predictions, references)\n",
        "\n",
        "    return f1, em\n",
        "\n",
        "\n",
        "# Assuming you have the ground truth answers\n",
        "ground_truth_answers = [\"న్యూఢిల్లీ\", \"భారతదేశం\", \"ప్రతికూలతలు వాటిలో అంతర్లీనంగా అవకాశాలు ఉన్నాయని\", \"It was a convenient spot for taking a halt at night\", \"अपनी शुभ बुधि से\"]\n",
        "# Assuming you have the predicted answers\n",
        "# predicted_answers = [\"న్యూఢిల్లీ\", \"భారతదేశం\", \"ప్రతికూలతలు వాటిలో అంతర్లీనంగా అవకాశాలు ఉన్నాయని\", \"they had nothing to cook\", \"धीरे-धीरे\"]\n",
        "\n",
        "f1_score, exact_match = evaluate_performance(predicted_answers, ground_truth_answers)\n",
        "\n",
        "print(f\"F1 Score: {f1_score}\")\n",
        "print(f\"Exact Match: {exact_match}\")\n"
      ],
      "metadata": {
        "id": "gJB1bxy-FNIo",
        "colab": {
          "base_uri": "https://localhost:8080/"
        },
        "outputId": "440b1cb7-674d-4472-b9e8-4b9b0d829e39"
      },
      "execution_count": null,
      "outputs": [
        {
          "output_type": "stream",
          "name": "stdout",
          "text": [
            "F1 Score: 0.6\n",
            "Exact Match: 0.6\n"
          ]
        }
      ]
    },
    {
      "cell_type": "code",
      "source": [],
      "metadata": {
        "id": "-9BctN87FNMF"
      },
      "execution_count": null,
      "outputs": []
    }
  ]
}